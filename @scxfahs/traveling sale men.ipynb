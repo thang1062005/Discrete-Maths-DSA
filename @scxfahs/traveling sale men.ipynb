{
 "cells": [
  {
   "cell_type": "code",
   "execution_count": null,
   "id": "92053347",
   "metadata": {},
   "outputs": [],
   "source": [
    "#PYTHON \n",
    "n = int(input())\n",
    "arr = []\n",
    "for i in range(n):\n",
    "    arr.append(list(map(int, input().split())))\n",
    "\n",
    "def greedyTSP(arr):\n",
    "    tour = [1]\n",
    "    last = 0  # Using 0-based indexing for internal computations\n",
    "    c = [i for i in range(1, n)]\n",
    "    \n",
    "    while c:\n",
    "        # Find the nearest city from 'last' in the list of cities 'c'\n",
    "        j = min(c, key=lambda city: arr[last][city])\n",
    "        tour.append(j + 1)  # Convert back to 1-based index for output\n",
    "        last = j\n",
    "        c.remove(j)\n",
    "        \n",
    "    return tour\n",
    "\n",
    "# Output the tour\n",
    "print(n)\n",
    "print(\" \".join(map(str, greedyTSP(arr))))"
   ]
  }
 ],
 "metadata": {
  "kernelspec": {
   "display_name": "Python 3 (ipykernel)",
   "language": "python",
   "name": "python3"
  },
  "language_info": {
   "codemirror_mode": {
    "name": "ipython",
    "version": 3
   },
   "file_extension": ".py",
   "mimetype": "text/x-python",
   "name": "python",
   "nbconvert_exporter": "python",
   "pygments_lexer": "ipython3",
   "version": "3.11.4"
  }
 },
 "nbformat": 4,
 "nbformat_minor": 5
}
