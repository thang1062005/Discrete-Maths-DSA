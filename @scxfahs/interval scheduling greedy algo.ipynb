{
 "cells": [
  {
   "cell_type": "code",
   "execution_count": 2,
   "id": "957eb4ea",
   "metadata": {},
   "outputs": [
    {
     "name": "stdout",
     "output_type": "stream",
     "text": [
      "['A', 'D', 'E']\n"
     ]
    }
   ],
   "source": [
    "jobs = {'A':[1,4],\n",
    "       'B':[3,5],\n",
    "       'C':[0,6],\n",
    "       'D':[5,7],\n",
    "       'E':[8,9],\n",
    "       'F':[6,8]}\n",
    "\n",
    "# CHOOSE JOB FROM THE EARLIEST FINISH TIME\n",
    "def schel(jobs):\n",
    "    res = []\n",
    "    count = 0\n",
    "    sorted_jobs = sorted(jobs.items(), key=lambda item: item[1][1])\n",
    "   # Convert back to a dictionary if needed\n",
    "    sorted_jobs_dict = dict(sorted_jobs)\n",
    "    for key in sorted_jobs_dict:\n",
    "        if not res:\n",
    "            res.append(key)\n",
    "            count+=1\n",
    "        elif sorted_jobs_dict[key][0] >= sorted_jobs_dict[res[count-1]][1]:\n",
    "            res.append(key)\n",
    "            count += 1\n",
    "    return res\n",
    "\n",
    "print(schel(jobs))\n",
    "            \n",
    "            \n",
    "    \n",
    "            \n",
    "        "
   ]
  },
  {
   "cell_type": "code",
   "execution_count": null,
   "id": "f6115b1d",
   "metadata": {},
   "outputs": [],
   "source": []
  }
 ],
 "metadata": {
  "kernelspec": {
   "display_name": "Python 3 (ipykernel)",
   "language": "python",
   "name": "python3"
  },
  "language_info": {
   "codemirror_mode": {
    "name": "ipython",
    "version": 3
   },
   "file_extension": ".py",
   "mimetype": "text/x-python",
   "name": "python",
   "nbconvert_exporter": "python",
   "pygments_lexer": "ipython3",
   "version": "3.11.4"
  }
 },
 "nbformat": 4,
 "nbformat_minor": 5
}
