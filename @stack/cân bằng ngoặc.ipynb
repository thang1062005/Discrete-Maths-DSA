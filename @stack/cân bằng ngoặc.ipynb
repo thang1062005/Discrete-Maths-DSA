{
 "cells": [
  {
   "cell_type": "code",
   "execution_count": 26,
   "id": "e6264361",
   "metadata": {},
   "outputs": [
    {
     "name": "stdout",
     "output_type": "stream",
     "text": [
      "stack_underflow\n"
     ]
    },
    {
     "ename": "KeyError",
     "evalue": "0",
     "output_type": "error",
     "traceback": [
      "\u001b[1;31m---------------------------------------------------------------------------\u001b[0m",
      "\u001b[1;31mKeyError\u001b[0m                                  Traceback (most recent call last)",
      "Cell \u001b[1;32mIn[26], line 42\u001b[0m\n\u001b[0;32m     40\u001b[0m     \u001b[38;5;28;01melse\u001b[39;00m:\n\u001b[0;32m     41\u001b[0m         \u001b[38;5;28;01mreturn\u001b[39;00m \u001b[38;5;28;01mFalse\u001b[39;00m\n\u001b[1;32m---> 42\u001b[0m \u001b[38;5;28mprint\u001b[39m(valid(\u001b[38;5;124m'\u001b[39m\u001b[38;5;124m]\u001b[39m\u001b[38;5;124m'\u001b[39m,stk))\n",
      "Cell \u001b[1;32mIn[26], line 34\u001b[0m, in \u001b[0;36mvalid\u001b[1;34m(s, stk)\u001b[0m\n\u001b[0;32m     32\u001b[0m     stk\u001b[38;5;241m.\u001b[39mpush(i)\n\u001b[0;32m     33\u001b[0m \u001b[38;5;28;01mwhile\u001b[39;00m stk\u001b[38;5;241m.\u001b[39msize \u001b[38;5;241m!=\u001b[39m\u001b[38;5;241m0\u001b[39m:\n\u001b[1;32m---> 34\u001b[0m     \u001b[38;5;28;01mif\u001b[39;00m i \u001b[38;5;241m==\u001b[39m br[stk\u001b[38;5;241m.\u001b[39mpop()]:\n\u001b[0;32m     35\u001b[0m         \u001b[38;5;28;01mcontinue\u001b[39;00m\n\u001b[0;32m     36\u001b[0m     \u001b[38;5;28;01melse\u001b[39;00m:\n",
      "\u001b[1;31mKeyError\u001b[0m: 0"
     ]
    }
   ],
   "source": [
    "class stack:\n",
    "    def __init__(self, limit_data = 10):\n",
    "        self.stk = []\n",
    "        self.limit = limit_data\n",
    "    def isempty(self):\n",
    "        return len(self.stk)<= 0\n",
    "    def push(self, item):\n",
    "        if len(self.stk) >= self.limit:\n",
    "            print('stack_overflow')\n",
    "        else:\n",
    "            self.stk.append(item)\n",
    "    def pop(self):\n",
    "        if len(self.stk) <= 0:\n",
    "            print('stack_underflow')\n",
    "            return 0\n",
    "        else:\n",
    "            return self.stk.pop()\n",
    "    def size(self):\n",
    "        return len(self.stk)\n",
    "    def peek(self):\n",
    "        if len(self.stk)<=0:\n",
    "            print('stack_underflow')\n",
    "            return 0\n",
    "        else:\n",
    "            return self.stk[-1]\n",
    "\n",
    "br = {'(':')','[':']','{':'}'}\n",
    "stk = stack()\n",
    "def valid(s, stk):\n",
    "    for i in s:\n",
    "        if i in br:\n",
    "            stk.push(i)\n",
    "        else:\n",
    "            if i == br[stk.pop()]:\n",
    "                continue\n",
    "            else:\n",
    "                return False\n",
    "    if stk.size() == 0:\n",
    "        return True\n",
    "    else:\n",
    "        return False\n",
    "print(valid(']',stk))\n",
    "    \n"
   ]
  },
  {
   "cell_type": "code",
   "execution_count": null,
   "id": "5d2bfc8b",
   "metadata": {},
   "outputs": [],
   "source": []
  },
  {
   "cell_type": "code",
   "execution_count": null,
   "id": "6aab9068",
   "metadata": {},
   "outputs": [],
   "source": []
  }
 ],
 "metadata": {
  "kernelspec": {
   "display_name": "Python 3 (ipykernel)",
   "language": "python",
   "name": "python3"
  },
  "language_info": {
   "codemirror_mode": {
    "name": "ipython",
    "version": 3
   },
   "file_extension": ".py",
   "mimetype": "text/x-python",
   "name": "python",
   "nbconvert_exporter": "python",
   "pygments_lexer": "ipython3",
   "version": "3.11.4"
  }
 },
 "nbformat": 4,
 "nbformat_minor": 5
}
