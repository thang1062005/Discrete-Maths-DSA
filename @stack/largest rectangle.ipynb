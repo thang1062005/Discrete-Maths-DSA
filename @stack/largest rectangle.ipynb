{
 "cells": [
  {
   "cell_type": "code",
   "execution_count": 7,
   "id": "b677dc3c",
   "metadata": {},
   "outputs": [
    {
     "name": "stdout",
     "output_type": "stream",
     "text": [
      "[3, 8, 0, 0, 7, 0, 0]\n",
      "None\n"
     ]
    }
   ],
   "source": [
    "class stack:\n",
    "    def __init__(self, limit_data = 10):\n",
    "        self.stk = []\n",
    "        self.limit = limit_data\n",
    "    def rep(self):\n",
    "        print(self.stk)\n",
    "    def isempty(self):\n",
    "        return len(self.stk)<= 0\n",
    "    def push(self, item):\n",
    "        if len(self.stk) >= self.limit:\n",
    "            print('stack_overflow')\n",
    "        else:\n",
    "            self.stk.append(item)\n",
    "    def pop(self):\n",
    "        if len(self.stk) <= 0:\n",
    "            print('stack_underflow')\n",
    "            return 0\n",
    "        else:\n",
    "            return self.stk.pop()\n",
    "    def maxval(self):\n",
    "        return max(self.stk)\n",
    "    def size(self):\n",
    "        return len(self.stk)\n",
    "    def peek(self):\n",
    "        if len(self.stk)<=0:\n",
    "            print('stack_underflow')\n",
    "            return 0\n",
    "        else:\n",
    "            return self.stk[-1]\n",
    "        \n",
    "A = [3,2,5,6,1,4,4]\n",
    "\n",
    "def hcnlon(A):\n",
    "    res = stack()\n",
    "    for h in range(len(A)):\n",
    "        j = 0 \n",
    "        if j - h > 1:\n",
    "            \n",
    "        s = 0 \n",
    "        while j < len(A) and A[h] <= A[j]:\n",
    "            s += A[h]\n",
    "            j += 1\n",
    "        res.push(s)\n",
    "    return res.rep()\n",
    "print(hcnlon(A))\n",
    "    "
   ]
  },
  {
   "cell_type": "code",
   "execution_count": null,
   "id": "a2930fc4",
   "metadata": {},
   "outputs": [],
   "source": []
  }
 ],
 "metadata": {
  "kernelspec": {
   "display_name": "Python 3 (ipykernel)",
   "language": "python",
   "name": "python3"
  },
  "language_info": {
   "codemirror_mode": {
    "name": "ipython",
    "version": 3
   },
   "file_extension": ".py",
   "mimetype": "text/x-python",
   "name": "python",
   "nbconvert_exporter": "python",
   "pygments_lexer": "ipython3",
   "version": "3.11.4"
  }
 },
 "nbformat": 4,
 "nbformat_minor": 5
}
