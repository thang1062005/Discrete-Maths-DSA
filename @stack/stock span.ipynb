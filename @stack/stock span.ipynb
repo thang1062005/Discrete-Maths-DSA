{
 "cells": [
  {
   "cell_type": "code",
   "execution_count": 7,
   "id": "7183cdc2",
   "metadata": {},
   "outputs": [
    {
     "name": "stdout",
     "output_type": "stream",
     "text": [
      "[1, 1, 1, 2, 1, 4, 6]\n"
     ]
    }
   ],
   "source": [
    "class stack:\n",
    "    def __init__(self, limit_data = 10):\n",
    "        self.stk = []\n",
    "        self.limit = limit_data\n",
    "    def rep(self):\n",
    "        print(self.stk)\n",
    "    def isempty(self):\n",
    "        return len(self.stk)<= 0\n",
    "    def push(self, item):\n",
    "        if len(self.stk) >= self.limit:\n",
    "            print('stack_overflow')\n",
    "        else:\n",
    "            self.stk.append(item)\n",
    "    def pop(self):\n",
    "        if len(self.stk) <= 0:\n",
    "            print('stack_underflow')\n",
    "            return 0\n",
    "        else:\n",
    "            return self.stk.pop()\n",
    "    \n",
    "    def size(self):\n",
    "        return len(self.stk)\n",
    "    def peek(self):\n",
    "        if len(self.stk)<=0:\n",
    "            print('stack_underflow')\n",
    "            return 0\n",
    "        else:\n",
    "            return self.stk[-1]\n",
    "A = [100,80,60,70,60,75,85] \n",
    "\n",
    "def stockspan(A): #o(n^2)\n",
    "    res = []\n",
    "    res.append(1)\n",
    "    for i in range(1,len(A)):\n",
    "        count = 1\n",
    "        j = 1\n",
    "        while A[i]>A[i-j]:\n",
    "            count +=1\n",
    "            j += 1\n",
    "        res.append(count)    \n",
    "    return res\n",
    "\n",
    "            \n",
    "def findspan(A): #o(N)\n",
    "    res = [None for i in range(len(A))]\n",
    "    S = stack()\n",
    "    for i in range(len(A)):\n",
    "        if S.size() == 0:\n",
    "            p = -1\n",
    "            S.push(A[i])\n",
    "        elif S.size() != 0 and A[i] < S.peek():\n",
    "            p = A.index(S.peek())\n",
    "            S.push(A[i])\n",
    "        else:    \n",
    "            while S.size() != 0 and A[i] >= S.peek():\n",
    "                S.pop()\n",
    "            p = A.index(S.peek())\n",
    "            S.push(A[i])\n",
    "        \n",
    "        \n",
    "        res[i] = i-p    \n",
    "    \n",
    "    return res\n",
    "\n",
    "print(findspan(A))    \n",
    "    \n",
    "        \n",
    "    "
   ]
  },
  {
   "cell_type": "code",
   "execution_count": 3,
   "id": "6732be73",
   "metadata": {},
   "outputs": [
    {
     "name": "stdout",
     "output_type": "stream",
     "text": [
      "[None, None, None]\n"
     ]
    }
   ],
   "source": []
  },
  {
   "cell_type": "code",
   "execution_count": null,
   "id": "db353838",
   "metadata": {},
   "outputs": [],
   "source": []
  }
 ],
 "metadata": {
  "kernelspec": {
   "display_name": "Python 3 (ipykernel)",
   "language": "python",
   "name": "python3"
  },
  "language_info": {
   "codemirror_mode": {
    "name": "ipython",
    "version": 3
   },
   "file_extension": ".py",
   "mimetype": "text/x-python",
   "name": "python",
   "nbconvert_exporter": "python",
   "pygments_lexer": "ipython3",
   "version": "3.11.4"
  }
 },
 "nbformat": 4,
 "nbformat_minor": 5
}
