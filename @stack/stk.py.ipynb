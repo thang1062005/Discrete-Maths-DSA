{
 "cells": [
  {
   "cell_type": "code",
   "execution_count": 2,
   "id": "b3b93788",
   "metadata": {},
   "outputs": [
    {
     "name": "stdout",
     "output_type": "stream",
     "text": [
      "[3, 2, 1]\n"
     ]
    }
   ],
   "source": [
    "class stack:\n",
    "    def __init__(self, limit_data = 10):\n",
    "        self.stk = []\n",
    "        self.limit = limit_data\n",
    "    def rep(self):\n",
    "        print(self.stk)\n",
    "    def isempty(self):\n",
    "        return len(self.stk)<= 0\n",
    "    def push(self, item):\n",
    "        if len(self.stk) >= self.limit:\n",
    "            print('stack_overflow')\n",
    "        else:\n",
    "            self.stk.append(item)\n",
    "    def pop(self):\n",
    "        if len(self.stk) <= 0:\n",
    "            print('stack_underflow')\n",
    "            return 0\n",
    "        else:\n",
    "            return self.stk.pop()\n",
    "    \n",
    "    def size(self):\n",
    "        return len(self.stk)\n",
    "    def peek(self):\n",
    "        if len(self.stk)<=0:\n",
    "            print('stack_underflow')\n",
    "            return 0\n",
    "        else:\n",
    "            return self.stk[-1]\n",
    "a = stack()\n",
    "a.push(1)\n",
    "a.push(2)\n",
    "a.push(3)\n",
    "\n",
    "def reversest(a):\n",
    "    new = stack()\n",
    "    while not a.isempty():\n",
    "        new.push(a.pop())\n",
    "    new.rep()   \n",
    "reversest(a)    "
   ]
  },
  {
   "cell_type": "code",
   "execution_count": null,
   "id": "6190ee1d",
   "metadata": {},
   "outputs": [],
   "source": []
  }
 ],
 "metadata": {
  "kernelspec": {
   "display_name": "Python 3 (ipykernel)",
   "language": "python",
   "name": "python3"
  },
  "language_info": {
   "codemirror_mode": {
    "name": "ipython",
    "version": 3
   },
   "file_extension": ".py",
   "mimetype": "text/x-python",
   "name": "python",
   "nbconvert_exporter": "python",
   "pygments_lexer": "ipython3",
   "version": "3.11.4"
  }
 },
 "nbformat": 4,
 "nbformat_minor": 5
}
