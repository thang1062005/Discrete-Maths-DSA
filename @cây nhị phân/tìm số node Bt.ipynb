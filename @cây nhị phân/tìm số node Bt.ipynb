{
 "cells": [
  {
   "cell_type": "code",
   "execution_count": 1,
   "id": "107945e3",
   "metadata": {},
   "outputs": [
    {
     "name": "stdout",
     "output_type": "stream",
     "text": [
      "7\n"
     ]
    }
   ],
   "source": [
    "class node:\n",
    "    def __init__(self, data = 0, left=None, right=None):\n",
    "        self.val = data\n",
    "        self.left = left\n",
    "        self.right = right\n",
    "root = node(1)\n",
    "root.left = node(2)\n",
    "root.right = node(3)\n",
    "root.left.right = node(4)\n",
    "root.left.left = node(7)\n",
    "root.right.right = node(6)\n",
    "root.right.left= node(5)\n",
    "\n",
    "def findsize(root):\n",
    "    if root is None:\n",
    "        return 0\n",
    "    return findsize(root.left)+findsize(root.right)+1\n",
    "print(findsize(root))"
   ]
  },
  {
   "cell_type": "code",
   "execution_count": null,
   "id": "f6dd3705",
   "metadata": {},
   "outputs": [],
   "source": []
  }
 ],
 "metadata": {
  "kernelspec": {
   "display_name": "Python 3 (ipykernel)",
   "language": "python",
   "name": "python3"
  },
  "language_info": {
   "codemirror_mode": {
    "name": "ipython",
    "version": 3
   },
   "file_extension": ".py",
   "mimetype": "text/x-python",
   "name": "python",
   "nbconvert_exporter": "python",
   "pygments_lexer": "ipython3",
   "version": "3.11.4"
  }
 },
 "nbformat": 4,
 "nbformat_minor": 5
}
