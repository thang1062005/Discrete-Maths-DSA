{
 "cells": [
  {
   "cell_type": "code",
   "execution_count": 5,
   "id": "88a52217",
   "metadata": {},
   "outputs": [
    {
     "name": "stdout",
     "output_type": "stream",
     "text": [
      "True\n"
     ]
    }
   ],
   "source": [
    "class node:\n",
    "    def __init__(self, data = 0, left=None, right=None):\n",
    "        self.val = data\n",
    "        self.left = left\n",
    "        self.right = right\n",
    "root = node(1)\n",
    "root.left = node(2)\n",
    "root.right = node(3)\n",
    "root.left.right = node(4)\n",
    "root.left.left = node(7)\n",
    "root.right.right = node(6)\n",
    "root.right.left= node(5)\n",
    "\n",
    "def searchele(root,data):\n",
    "    if root is None:\n",
    "        return False\n",
    "    if root.val == data:\n",
    "        return True\n",
    "    return searchele(root.left, data) or searchele(root.right,data)\n",
    "\n",
    "print(searchele(root,5))    "
   ]
  },
  {
   "cell_type": "code",
   "execution_count": null,
   "id": "99f98a3c",
   "metadata": {},
   "outputs": [],
   "source": []
  }
 ],
 "metadata": {
  "kernelspec": {
   "display_name": "Python 3 (ipykernel)",
   "language": "python",
   "name": "python3"
  },
  "language_info": {
   "codemirror_mode": {
    "name": "ipython",
    "version": 3
   },
   "file_extension": ".py",
   "mimetype": "text/x-python",
   "name": "python",
   "nbconvert_exporter": "python",
   "pygments_lexer": "ipython3",
   "version": "3.11.4"
  }
 },
 "nbformat": 4,
 "nbformat_minor": 5
}
