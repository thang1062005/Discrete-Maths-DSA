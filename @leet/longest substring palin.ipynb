{
 "cells": [
  {
   "cell_type": "code",
   "execution_count": 7,
   "id": "2a104b76",
   "metadata": {},
   "outputs": [
    {
     "ename": "IndexError",
     "evalue": "pop from empty list",
     "output_type": "error",
     "traceback": [
      "\u001b[1;31m---------------------------------------------------------------------------\u001b[0m",
      "\u001b[1;31mIndexError\u001b[0m                                Traceback (most recent call last)",
      "Cell \u001b[1;32mIn[7], line 21\u001b[0m\n\u001b[0;32m     19\u001b[0m         l\u001b[38;5;241m.\u001b[39mappend(\u001b[38;5;28mlen\u001b[39m(q))    \n\u001b[0;32m     20\u001b[0m     \u001b[38;5;28;01mreturn\u001b[39;00m \u001b[38;5;28mmax\u001b[39m(l)\n\u001b[1;32m---> 21\u001b[0m \u001b[38;5;28mprint\u001b[39m(subpal(\u001b[38;5;124m\"\u001b[39m\u001b[38;5;124mihavehugedick\u001b[39m\u001b[38;5;124m\"\u001b[39m))\n",
      "Cell \u001b[1;32mIn[7], line 18\u001b[0m, in \u001b[0;36msubpal\u001b[1;34m(s)\u001b[0m\n\u001b[0;32m     15\u001b[0m     q\u001b[38;5;241m.\u001b[39mappend(i)\n\u001b[0;32m     16\u001b[0m     \u001b[38;5;28;01mwhile\u001b[39;00m pal(q):\n\u001b[1;32m---> 18\u001b[0m         q\u001b[38;5;241m.\u001b[39mpop(\u001b[38;5;241m0\u001b[39m)\n\u001b[0;32m     19\u001b[0m     l\u001b[38;5;241m.\u001b[39mappend(\u001b[38;5;28mlen\u001b[39m(q))    \n\u001b[0;32m     20\u001b[0m \u001b[38;5;28;01mreturn\u001b[39;00m \u001b[38;5;28mmax\u001b[39m(l)\n",
      "\u001b[1;31mIndexError\u001b[0m: pop from empty list"
     ]
    }
   ],
   "source": [
    "def pal(n):\n",
    "    for i in range(len(n)):\n",
    "        if n[i]== n[len(n)-1-i]:\n",
    "            continue\n",
    "        else:\n",
    "            return False\n",
    "        \n",
    "    return True\n",
    "def generate_substrings(s):\n",
    "    result = []\n",
    "    \n",
    "    def backtrack(start, path):\n",
    "        # Add the current substring to the result\n",
    "        result.append(''.join(path))\n",
    "        \n",
    "        # Explore all substrings starting from `start`\n",
    "        for i in range(start, len(s)):\n",
    "            # Choose\n",
    "            path.append(s[i])\n",
    "            \n",
    "            # Explore\n",
    "            backtrack(i + 1, path)\n",
    "            \n",
    "            # Unchoose (backtrack)\n",
    "            path.pop()\n",
    "    \n",
    "    backtrack(0, [])\n",
    "    return result\n",
    "\n",
    "def subpal(s):\n",
    "    global pal\n",
    "    q = []\n",
    "    l = []\n",
    "    for i in s:\n",
    "        q.append(i)\n",
    "        while pal(q):\n",
    "            \n",
    "            q.pop(0)\n",
    "        l.append(len(q))    \n",
    "    return max(l)\n",
    "print(subpal(\"ihavehugedick\"))\n",
    "        "
   ]
  },
  {
   "cell_type": "code",
   "execution_count": 14,
   "id": "ca9a841a",
   "metadata": {},
   "outputs": [
    {
     "name": "stdout",
     "output_type": "stream",
     "text": [
      "bob\n"
     ]
    }
   ],
   "source": [
    "s=['a','bob','b']\n",
    "res = 'm'\n",
    "maxlen = 0\n",
    "for i in s:\n",
    "    if len(i)>maxlen:\n",
    "        maxlen = len(i)\n",
    "        res = i\n",
    "print(res)        \n",
    "    "
   ]
  },
  {
   "cell_type": "code",
   "execution_count": null,
   "id": "81182a23",
   "metadata": {},
   "outputs": [],
   "source": []
  }
 ],
 "metadata": {
  "kernelspec": {
   "display_name": "Python 3 (ipykernel)",
   "language": "python",
   "name": "python3"
  },
  "language_info": {
   "codemirror_mode": {
    "name": "ipython",
    "version": 3
   },
   "file_extension": ".py",
   "mimetype": "text/x-python",
   "name": "python",
   "nbconvert_exporter": "python",
   "pygments_lexer": "ipython3",
   "version": "3.11.4"
  }
 },
 "nbformat": 4,
 "nbformat_minor": 5
}
