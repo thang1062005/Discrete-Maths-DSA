{
 "cells": [
  {
   "cell_type": "code",
   "execution_count": 7,
   "id": "3cd90808",
   "metadata": {},
   "outputs": [],
   "source": [
    "class node:\n",
    "    def __init__(self, val = None):\n",
    "        self.val = val\n",
    "        self.next = None\n",
    "class dslk:\n",
    "    def __init__(self):\n",
    "        self.head = node()\n",
    "    def append(self,data):\n",
    "        new = node()\n",
    "        cur = self.head\n",
    "        while cur.next != None:\n",
    "            cur = cur.next\n",
    "        cur.next = new\n",
    "    def length(self):\n",
    "        cur = self.head\n",
    "        count = 0\n",
    "        while cur.next != None:\n",
    "            count+=1 \n",
    "            cur = cur.next\n",
    "        return count\n",
    "    def rep(self):\n",
    "        ele = []\n",
    "        cur = self.head\n",
    "        while cur.next != None:\n",
    "            cur = cur.next\n",
    "            ele.append(cur.val)\n",
    "        return ele\n",
    "l1 = dslk()\n",
    "l1.append(2)\n",
    "l1.append(4)\n",
    "l1.append(3)\n",
    "\n",
    "l2 = dslk()\n",
    "l2.append(5)\n",
    "l2.append(6)\n",
    "l2.append(4)\n",
    "\n"
   ]
  },
  {
   "cell_type": "code",
   "execution_count": 8,
   "id": "9470b551",
   "metadata": {},
   "outputs": [
    {
     "name": "stdout",
     "output_type": "stream",
     "text": [
      "[1, 3, 4, 1]\n"
     ]
    }
   ],
   "source": [
    "a = [1,3,4]\n",
    "b = a\n",
    "b.append(1)\n",
    "print(a)\n",
    "    "
   ]
  },
  {
   "cell_type": "code",
   "execution_count": null,
   "id": "3f7c7180",
   "metadata": {},
   "outputs": [],
   "source": [
    "a "
   ]
  }
 ],
 "metadata": {
  "kernelspec": {
   "display_name": "Python 3 (ipykernel)",
   "language": "python",
   "name": "python3"
  },
  "language_info": {
   "codemirror_mode": {
    "name": "ipython",
    "version": 3
   },
   "file_extension": ".py",
   "mimetype": "text/x-python",
   "name": "python",
   "nbconvert_exporter": "python",
   "pygments_lexer": "ipython3",
   "version": "3.11.4"
  }
 },
 "nbformat": 4,
 "nbformat_minor": 5
}
