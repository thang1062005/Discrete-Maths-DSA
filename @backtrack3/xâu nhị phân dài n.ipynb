{
 "cells": [
  {
   "cell_type": "code",
   "execution_count": 1,
   "id": "a2e21310",
   "metadata": {},
   "outputs": [
    {
     "name": "stdout",
     "output_type": "stream",
     "text": [
      "00\n",
      "01\n",
      "10\n",
      "11\n"
     ]
    }
   ],
   "source": [
    "x = [0 for i in range(2)]\n",
    "n = len(x)\n",
    "def Try(k):\n",
    "    global bprint\n",
    "    for y in range(0,2):\n",
    "        x[k] = y\n",
    "        if k == n-1:\n",
    "            print(bprint(x))\n",
    "        else:\n",
    "            Try(k+1)\n",
    "def bprint(x):\n",
    "    tmp = ''\n",
    "    for i in x:\n",
    "        tmp += str(i)\n",
    "    return tmp\n",
    "Try(0)"
   ]
  },
  {
   "cell_type": "code",
   "execution_count": null,
   "id": "a8be586e",
   "metadata": {},
   "outputs": [],
   "source": []
  }
 ],
 "metadata": {
  "kernelspec": {
   "display_name": "Python 3 (ipykernel)",
   "language": "python",
   "name": "python3"
  },
  "language_info": {
   "codemirror_mode": {
    "name": "ipython",
    "version": 3
   },
   "file_extension": ".py",
   "mimetype": "text/x-python",
   "name": "python",
   "nbconvert_exporter": "python",
   "pygments_lexer": "ipython3",
   "version": "3.11.4"
  }
 },
 "nbformat": 4,
 "nbformat_minor": 5
}
