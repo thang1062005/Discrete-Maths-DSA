{
 "cells": [
  {
   "cell_type": "code",
   "execution_count": 11,
   "id": "ea7b585b",
   "metadata": {},
   "outputs": [
    {
     "name": "stdout",
     "output_type": "stream",
     "text": [
      "[4, 6, 10]\n",
      "[4, 7, 9]\n",
      "[4, 8, 8]\n",
      "[4, 9, 7]\n",
      "[5, 6, 9]\n",
      "[5, 7, 8]\n",
      "[5, 8, 7]\n",
      "[5, 9, 6]\n",
      "[6, 6, 8]\n",
      "[6, 7, 7]\n",
      "[6, 8, 6]\n",
      "[6, 9, 5]\n",
      "[7, 6, 7]\n",
      "[7, 7, 6]\n",
      "[7, 8, 5]\n",
      "[7, 9, 4]\n",
      "224\n"
     ]
    }
   ],
   "source": [
    "# thông tin:\n",
    "M = 20 # tổng lượng taxi \n",
    "n = 3 # số khu vực \n",
    "demand = [[4,7],[6,9],[3,6]] #nhu cầu min và max của từng vùng\n",
    "p = [8,12,15] # phí phân phối mỗi chiếc tới từng vùng\n",
    "x = [0 for i in range(n)] # số lượng xe mỗi vùng\n",
    "f0 = 300 # kỷ lục gốc\n",
    "\n",
    "# Hàm Try truyền 3 tham số:\n",
    "# k: (chạy từ 0->n-1): số lượng xe mỗi chỗ\n",
    "# sum_now: cập nhật tổng số xe đã phân\n",
    "# p_now: cập nhật kỷ lục\n",
    "\n",
    "def Try(k,sum_now, p_now):\n",
    "    global f0\n",
    "    if k == n-1:\n",
    "        T = [M-sum_now]\n",
    "    elif M-sum_now < demand[k][1]:\n",
    "        T = [i for i in range(demand[k][0],M-sum_now)]\n",
    "    else:\n",
    "        T = [i for i in range(demand[k][0],demand[k][1]+1)]\n",
    "    for j in T:\n",
    "        x[k]= j\n",
    "        sum_now += x[k]\n",
    "        p_now += x[k]*p[k]\n",
    "        if k == n-1:\n",
    "            print(x)\n",
    "            f0 = p_now\n",
    "        else:\n",
    "            if p_now + (M-sum_now)*min(p)<f0:\n",
    "                Try(k+1,sum_now,p_now)\n",
    "        sum_now -= x[k]\n",
    "        p_now -= x[k]*p[k]\n",
    "        x[k]=0\n",
    "                              \n",
    "Try(0,0,0) \n",
    "print(f0)"
   ]
  },
  {
   "cell_type": "code",
   "execution_count": null,
   "id": "2203404a",
   "metadata": {},
   "outputs": [],
   "source": []
  },
  {
   "cell_type": "code",
   "execution_count": null,
   "id": "51b243f7",
   "metadata": {},
   "outputs": [],
   "source": []
  }
 ],
 "metadata": {
  "kernelspec": {
   "display_name": "Python 3 (ipykernel)",
   "language": "python",
   "name": "python3"
  },
  "language_info": {
   "codemirror_mode": {
    "name": "ipython",
    "version": 3
   },
   "file_extension": ".py",
   "mimetype": "text/x-python",
   "name": "python",
   "nbconvert_exporter": "python",
   "pygments_lexer": "ipython3",
   "version": "3.11.4"
  }
 },
 "nbformat": 4,
 "nbformat_minor": 5
}
