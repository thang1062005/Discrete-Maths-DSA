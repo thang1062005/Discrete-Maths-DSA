{
 "cells": [
  {
   "cell_type": "markdown",
   "id": "b09d5dac",
   "metadata": {},
   "source": [
    "# Tìm bộ nghiệm nguyên dương x1+x2+...+xn = M"
   ]
  },
  {
   "cell_type": "code",
   "execution_count": 5,
   "id": "adfa6644",
   "metadata": {},
   "outputs": [
    {
     "name": "stdout",
     "output_type": "stream",
     "text": [
      "4\n",
      "3\n",
      "112\n",
      "121\n",
      "211\n"
     ]
    }
   ],
   "source": [
    "M = int(input(''))\n",
    "n = int(input(''))\n",
    "# x là danh sách ghi kết quả\n",
    "x = [0 for i in range(n)]\n",
    "\n",
    "# bprint là hàm in khi hoàn thiện 1 kết quả x\n",
    "def bprint(x):\n",
    "    res = ''\n",
    "    for i in x:\n",
    "        res += str(i)\n",
    "    return res\n",
    "# Hàm Try(k, sum_now) nhận vào 2 tham số. \n",
    "# k là index của phần tử sắp được điền\n",
    "# sum_now cập nhật tổng các phần tử id 0->(k-1)\n",
    "# sum_now được so sánh với M để lựa chọn tập T sao cho phù hợp\n",
    "\n",
    "def Try(k, sum_now):\n",
    "    # nếu đã duyệt đến phần tử cuối thì T chỉ chứa M-sum_now\n",
    "    if k == len(x)-1:\n",
    "        T = [M-sum_now]\n",
    "    # chưa duyệt đến cuối thì T sẽ từ 1-> M-sum_now-1    \n",
    "    else:\n",
    "        T = [i for i in range(1,M-sum_now)]\n",
    "    for y in T:\n",
    "        x[k]= y\n",
    "        sum_now += x[k]\n",
    "        if k == n-1:\n",
    "            print(bprint(x))\n",
    "        else:\n",
    "            Try(k+1, sum_now)\n",
    "        sum_now -= x[k]\n",
    "        x[k]=0\n",
    "Try(0,0)        "
   ]
  },
  {
   "cell_type": "code",
   "execution_count": null,
   "id": "cb080b67",
   "metadata": {},
   "outputs": [],
   "source": []
  }
 ],
 "metadata": {
  "kernelspec": {
   "display_name": "Python 3 (ipykernel)",
   "language": "python",
   "name": "python3"
  },
  "language_info": {
   "codemirror_mode": {
    "name": "ipython",
    "version": 3
   },
   "file_extension": ".py",
   "mimetype": "text/x-python",
   "name": "python",
   "nbconvert_exporter": "python",
   "pygments_lexer": "ipython3",
   "version": "3.11.4"
  }
 },
 "nbformat": 4,
 "nbformat_minor": 5
}
