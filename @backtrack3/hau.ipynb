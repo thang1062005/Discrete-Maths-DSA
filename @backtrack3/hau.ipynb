{
 "cells": [
  {
   "cell_type": "code",
   "execution_count": 18,
   "id": "a3b05bbe",
   "metadata": {},
   "outputs": [
    {
     "name": "stdout",
     "output_type": "stream",
     "text": [
      "1357246\n",
      "1473625\n",
      "1526374\n",
      "1642753\n",
      "2417536\n",
      "2461357\n",
      "2514736\n",
      "2531746\n",
      "2574136\n",
      "2637415\n",
      "2753164\n",
      "3162574\n",
      "3164275\n",
      "3572461\n",
      "3625147\n",
      "3724615\n",
      "3741526\n",
      "4136275\n",
      "4152637\n",
      "4275316\n",
      "4613572\n",
      "4736251\n",
      "4752613\n",
      "5147362\n",
      "5164273\n",
      "5263741\n",
      "5316427\n",
      "5724613\n",
      "5726314\n",
      "6135724\n",
      "6251473\n",
      "6314752\n",
      "6357142\n",
      "6374152\n",
      "6427531\n",
      "6471352\n",
      "7246135\n",
      "7362514\n",
      "7415263\n",
      "7531642\n"
     ]
    }
   ],
   "source": [
    "# n là số hàng, cột của bàn cờ\n",
    "n = 7\n",
    "N = [i for i in range(1,n+1)]\n",
    "x = [0 for i in range(n)]\n",
    "diff = [-13 for i in range(n)]\n",
    "su = [-13 for i in range(n)]\n",
    "def bprint(x):\n",
    "    temp = ''\n",
    "    for i in x:\n",
    "        temp += str(i)\n",
    "    return temp    \n",
    "def Try(k):\n",
    "    global bprint\n",
    "    N2 = N.copy()\n",
    "    T = [can for can in N2 if can not in x and can-k-1 not in diff and can+k+1 not in su]\n",
    "    for j in T:\n",
    "        x[k]= j\n",
    "        diff[k]= j-(k+1)\n",
    "        su[k] = j + k+1\n",
    "        if k == n-1: \n",
    "            print(bprint(x))\n",
    "        else:\n",
    "            Try(k+1)\n",
    "        x[k]=0\n",
    "        diff[k]=-13\n",
    "        su[k]=-13\n",
    "        \n",
    "Try(0)   "
   ]
  },
  {
   "cell_type": "code",
   "execution_count": null,
   "id": "0fd01fb6",
   "metadata": {},
   "outputs": [],
   "source": []
  }
 ],
 "metadata": {
  "kernelspec": {
   "display_name": "Python 3 (ipykernel)",
   "language": "python",
   "name": "python3"
  },
  "language_info": {
   "codemirror_mode": {
    "name": "ipython",
    "version": 3
   },
   "file_extension": ".py",
   "mimetype": "text/x-python",
   "name": "python",
   "nbconvert_exporter": "python",
   "pygments_lexer": "ipython3",
   "version": "3.11.4"
  }
 },
 "nbformat": 4,
 "nbformat_minor": 5
}
