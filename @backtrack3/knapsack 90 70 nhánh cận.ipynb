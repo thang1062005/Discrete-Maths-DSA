{
 "cells": [
  {
   "cell_type": "code",
   "execution_count": 40,
   "id": "035509af",
   "metadata": {},
   "outputs": [
    {
     "name": "stdout",
     "output_type": "stream",
     "text": [
      "6\n",
      "30889 13600 7848 32378 24116 1060\n",
      "15085 29945 25358 24015 4476 29143\n",
      "38461\n",
      "6\n",
      "0 2 1 0 0 3 "
     ]
    }
   ],
   "source": [
    "n = int(input(''))\n",
    "weights_input = input(\"\")\n",
    "values_input = input(\"\")\n",
    "M= int(input(''))\n",
    "w = list(map(int, weights_input.split()))\n",
    "v = list(map(int, values_input.split()))\n",
    "x = [0 for i in range(n)]\n",
    "r = [v[i]/w[i] for i in range(n)]\n",
    "res = []\n",
    "f0 = 0\n",
    "def Try(k, mass_now, val_now, M):\n",
    "    global f0\n",
    "    if (M-mass_now)//w[k]<3:\n",
    "        T = [i for i in range(0,(M-mass_now)//w[k]+1)]\n",
    "    else:\n",
    "        T = [i for i in range(0,4)]\n",
    "    for j in T:\n",
    "        x[k] = j\n",
    "        mass_now += x[k] * w[k]\n",
    "        if j <= 1:\n",
    "            val_now += j*v[k]\n",
    "        elif j == 2:\n",
    "            val_now += 1.9 * v[k]\n",
    "        else:\n",
    "            val_now += 2.6 * v[k]\n",
    "        \n",
    "        if k == n - 1:\n",
    "            if f0 < val_now:\n",
    "                f0 = val_now\n",
    "                res.append(x.copy())   \n",
    "        else:\n",
    "            if mass_now <= M and val_now + (M-mass_now)*max(r)>f0:# Ensure mass_now is within limits\n",
    "                Try(k + 1, mass_now, val_now, M)  # Pass M as an argument\n",
    "                \n",
    "        # Reset the values back\n",
    "        mass_now -= x[k] * w[k]\n",
    "        if j <= 1:\n",
    "            val_now -= x[k] * v[k]\n",
    "        elif j == 2:\n",
    "            val_now -= 1.9 * v[k]\n",
    "        else:  # j == 3\n",
    "            val_now -= 2.6 * v[k]\n",
    "        x[k] = 0\n",
    "        \n",
    "# Call the function with M\n",
    "Try(0, 0, 0, M)\n",
    "print(n)\n",
    "for i in res[-1]:\n",
    "    print(i, end= ' ')\n"
   ]
  }
 ],
 "metadata": {
  "kernelspec": {
   "display_name": "Python 3 (ipykernel)",
   "language": "python",
   "name": "python3"
  },
  "language_info": {
   "codemirror_mode": {
    "name": "ipython",
    "version": 3
   },
   "file_extension": ".py",
   "mimetype": "text/x-python",
   "name": "python",
   "nbconvert_exporter": "python",
   "pygments_lexer": "ipython3",
   "version": "3.11.4"
  }
 },
 "nbformat": 4,
 "nbformat_minor": 5
}
