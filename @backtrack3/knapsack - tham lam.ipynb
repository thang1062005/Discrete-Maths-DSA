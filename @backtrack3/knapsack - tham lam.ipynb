{
 "cells": [
  {
   "cell_type": "code",
   "execution_count": null,
   "id": "a544b18e",
   "metadata": {},
   "outputs": [],
   "source": [
    "#PYTHON \n",
    "def knapsack_greedy(n, weights, values, b):\n",
    "    # Prepare to store the number of each jewelry type taken\n",
    "    taken = [0] * n\n",
    "\n",
    "    # Create a list to hold the potential items (value, weight, type, count)\n",
    "    items = []\n",
    "\n",
    "    for i in range(n):\n",
    "        w = weights[i]\n",
    "        v1 = values[i]  # Taking 1 item\n",
    "        v2 = int(values[i] * 0.9)  # Taking 2 items (10% discount on the second)\n",
    "        v3 = int(values[i] * 0.7)  # Taking 3 items (10% on the second, 30% on the third)\n",
    "\n",
    "        # Add all combinations, ensuring we note the count\n",
    "        items.append((v1, w, i, 1))  # 1 item\n",
    "        items.append((v2, w, i, 2))  # 2 items\n",
    "        items.append((v3, w, i, 3))  # 3 items\n",
    "\n",
    "    # Sort items by value-to-weight ratio in descending order\n",
    "    items.sort(key=lambda x: x[0] / x[1], reverse=True)\n",
    "\n",
    "    total_weight = 0\n",
    "    total_value = 0\n",
    "\n",
    "    # Select items based on the sorted order\n",
    "    for value, weight, idx, count in items:\n",
    "        # Check if we can take this number of items\n",
    "        if total_weight + weight * count <= b and taken[idx] + count <= 3:\n",
    "            total_weight += weight * count\n",
    "            total_value += value\n",
    "            taken[idx] += count\n",
    "\n",
    "    return total_value, total_weight, taken\n",
    "\n",
    "# Example In = int(input(''))\n",
    "# Nhập dữ liệu từ người dùng\n",
    "n = int(input(''))\n",
    "weights_input = input(\"\")\n",
    "values_input = input(\"\")\n",
    "b= int(input(''))\n",
    "# Chia các chuỗi thành danh sách và chuyển đổi thành số nguyên\n",
    "weights = list(map(int, weights_input.split()))\n",
    "values = list(map(int, values_input.split()))\n",
    "x = [0 for i in range(n)]\n",
    "\n",
    "\n",
    "# Execute the function\n",
    "total_value, total_weight, taken = knapsack_greedy(n, weights, values, b)\n",
    "\n",
    "# Output results\n",
    "print(n)\n",
    "print(total_value)\n",
    "print(\" \".join(map(str, taken)))\n"
   ]
  },
  {
   "cell_type": "code",
   "execution_count": null,
   "id": "88aa29b1",
   "metadata": {},
   "outputs": [],
   "source": []
  }
 ],
 "metadata": {
  "kernelspec": {
   "display_name": "Python 3 (ipykernel)",
   "language": "python",
   "name": "python3"
  },
  "language_info": {
   "codemirror_mode": {
    "name": "ipython",
    "version": 3
   },
   "file_extension": ".py",
   "mimetype": "text/x-python",
   "name": "python",
   "nbconvert_exporter": "python",
   "pygments_lexer": "ipython3",
   "version": "3.11.4"
  }
 },
 "nbformat": 4,
 "nbformat_minor": 5
}
