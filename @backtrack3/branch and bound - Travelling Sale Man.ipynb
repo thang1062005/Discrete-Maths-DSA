{
 "cells": [
  {
   "cell_type": "code",
   "execution_count": 15,
   "id": "06ce5df3",
   "metadata": {},
   "outputs": [
    {
     "name": "stdout",
     "output_type": "stream",
     "text": [
      "1 3 4 2 "
     ]
    }
   ],
   "source": [
    "arr = [[1000,1,1,9],\n",
    "       [1,1000,9,3],\n",
    "       [1,9,1000,2],\n",
    "       [9,3,2,1000]]\n",
    "import numpy as np\n",
    "\n",
    "def find_max_with_numpy(arr):\n",
    "    np_array = np.array(arr)\n",
    "    return np.max(np_array)\n",
    "def find_min_with_numpy(arr):\n",
    "    np_array = np.array(arr)\n",
    "    return np.min(np_array)\n",
    "# x là danh sách ghi kết quả, giả sử bắt đầu đi từ thành phố 1\n",
    "n = len(arr)\n",
    "x = [1 for i in range(n)]\n",
    "f0 = find_max_with_numpy(arr)*n\n",
    "res = []\n",
    "# hàm Try(k, sum_now) sẽ bắt đầu với k = 1, sum_now = 0\n",
    "# điền phần tử có index k trong x\n",
    "# T là danh sách tên các thành phố,ban đầu là từ 1 -> n\n",
    "def Try(k,sum_now):\n",
    "    global f0\n",
    "    \n",
    "    T = [i for i in range(1,n+1)]\n",
    "    for i in range(1,n+1):\n",
    "        if i in x:\n",
    "            T.remove(i)\n",
    "    for j in T:\n",
    "        x[k] = j\n",
    "        sum_now += arr[x[k-1]-1][x[k]-1]\n",
    "        if k == n-1:\n",
    "            res.append(x.copy())\n",
    "            f0 = sum_now + arr[x[k]-1][0]\n",
    "        else:\n",
    "            if sum_now + (n-k)*find_min_with_numpy(arr) < f0:\n",
    "                Try(k+1,sum_now)\n",
    "        sum_now -= arr[x[k-1]-1][x[k]-1]\n",
    "        x[k] = 1              \n",
    "Try(1,0)\n",
    "for i in res[-1]:\n",
    "    print(i,end=' ')\n",
    "\n"
   ]
  },
  {
   "cell_type": "code",
   "execution_count": 19,
   "id": "41ce3f8b",
   "metadata": {},
   "outputs": [
    {
     "name": "stdout",
     "output_type": "stream",
     "text": [
      "4\n",
      "0 1 1 9\n",
      "1 0 9 3\n",
      "1 9 0 2\n",
      "9 3 2 0\n",
      "4\n",
      "1 3 4 2 "
     ]
    }
   ],
   "source": [
    "n = int(input())\n",
    "arr = []\n",
    "for i in range(n):\n",
    "    arr.append(list(map(int, input().split())))\n",
    "\n",
    "\n",
    "def find_max(arr):\n",
    "    max_val = -float('inf')\n",
    "    for row in arr:\n",
    "        max_val = max(max_val, *row)\n",
    "    return max_val\n",
    "\n",
    "# Function to find the minimum value in a 2D list\n",
    "def find_min(arr):\n",
    "    min_val = float('inf')\n",
    "    for row in arr:\n",
    "        min_val = min(min_val, *row)\n",
    "    return min_val\n",
    "\n",
    "# Initialize variables\n",
    "x = [1 for _ in range(n)]\n",
    "f0 = find_max(arr) * n\n",
    "res = []\n",
    "\n",
    "# Recursive function Try(k, sum_now) for generating permutations\n",
    "def Try(k, sum_now):\n",
    "    global f0\n",
    "    \n",
    "    T = [i for i in range(1, n + 1)]\n",
    "    for i in range(1, n + 1):\n",
    "        if i in x:\n",
    "            T.remove(i)\n",
    "    \n",
    "    for j in T:\n",
    "        x[k] = j\n",
    "        sum_now += arr[x[k - 1] - 1][x[k] - 1]\n",
    "        \n",
    "        if k == n - 1:\n",
    "            res.append(x.copy())\n",
    "            f0 = min(f0, sum_now + arr[x[k] - 1][0])\n",
    "        else:\n",
    "            if sum_now + (n - k) * find_min(arr) < f0:\n",
    "                Try(k + 1, sum_now)\n",
    "        \n",
    "        sum_now -= arr[x[k - 1] - 1][x[k] - 1]\n",
    "        x[k] = 1\n",
    "\n",
    "# Start recursive function\n",
    "Try(1, 0)\n",
    "\n",
    "# Output results\n",
    "print(n)\n",
    "for i in res[-1]:\n",
    "    print(i, end=' ')"
   ]
  },
  {
   "cell_type": "code",
   "execution_count": 21,
   "id": "41c9287d",
   "metadata": {},
   "outputs": [
    {
     "name": "stdout",
     "output_type": "stream",
     "text": [
      "4\n",
      "0 1 1 9\n",
      "1 0 9 3\n",
      "1 9 0 2\n",
      "9 3 2 0\n",
      "[1, 2, 4, 3]\n"
     ]
    }
   ],
   "source": [
    "n = int(input())\n",
    "arr = []\n",
    "for i in range(n):\n",
    "    # array chứa khoảng cách giữa 2 thành phố\n",
    "    arr.append(list(map(int, input().split())))\n",
    "def greedyTSP(arr):\n",
    "    tour = [1]\n",
    "    last = 1\n",
    "    # c chứa danh sách các thành phố chưa được thăm, các cột\n",
    "    c = [i for i in range(2,n+1)]\n",
    "    while c:\n",
    "        j = arr[last-1].index(min([arr[last-1][i-1] for i in c]))\n",
    "        tour.append(j+1)\n",
    "        last = j+1\n",
    "        c.remove(j+1)\n",
    "    return tour\n",
    "print(n)\n",
    "for i in greedyTSP(arr):\n",
    "    print(i, end = ' ')\n",
    "        "
   ]
  },
  {
   "cell_type": "code",
   "execution_count": null,
   "id": "cf67c418",
   "metadata": {},
   "outputs": [],
   "source": []
  }
 ],
 "metadata": {
  "kernelspec": {
   "display_name": "Python 3 (ipykernel)",
   "language": "python",
   "name": "python3"
  },
  "language_info": {
   "codemirror_mode": {
    "name": "ipython",
    "version": 3
   },
   "file_extension": ".py",
   "mimetype": "text/x-python",
   "name": "python",
   "nbconvert_exporter": "python",
   "pygments_lexer": "ipython3",
   "version": "3.11.4"
  }
 },
 "nbformat": 4,
 "nbformat_minor": 5
}
