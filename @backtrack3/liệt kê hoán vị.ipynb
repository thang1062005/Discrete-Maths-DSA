{
 "cells": [
  {
   "cell_type": "code",
   "execution_count": 18,
   "id": "c1bbeb20",
   "metadata": {},
   "outputs": [
    {
     "name": "stdout",
     "output_type": "stream",
     "text": [
      "1243\n",
      "1234\n",
      "1423\n",
      "1432\n",
      "1324\n",
      "1342\n",
      "2143\n",
      "2134\n",
      "2413\n",
      "2431\n",
      "2314\n",
      "2341\n",
      "4123\n",
      "4132\n",
      "4213\n",
      "4231\n",
      "4312\n",
      "4321\n",
      "3124\n",
      "3142\n",
      "3214\n",
      "3241\n",
      "3412\n",
      "3421\n"
     ]
    }
   ],
   "source": [
    "N = [1,2,4,3]\n",
    "x = [0 for i in range(4)]\n",
    "def bprint(x):\n",
    "    tmp = ''\n",
    "    for i in x:\n",
    "        tmp += str(i)\n",
    "    return tmp\n",
    "def Try(k):\n",
    "    global bprint         \n",
    "    T = [val for val in N if val not in x]    \n",
    "    for j in T:\n",
    "        x[k]=j\n",
    "        if k == len(N)-1:\n",
    "            print(bprint(x))\n",
    "        else:\n",
    "            Try(k+1)\n",
    "        x[k]=0\n",
    "Try(0)"
   ]
  }
 ],
 "metadata": {
  "kernelspec": {
   "display_name": "Python 3 (ipykernel)",
   "language": "python",
   "name": "python3"
  },
  "language_info": {
   "codemirror_mode": {
    "name": "ipython",
    "version": 3
   },
   "file_extension": ".py",
   "mimetype": "text/x-python",
   "name": "python",
   "nbconvert_exporter": "python",
   "pygments_lexer": "ipython3",
   "version": "3.11.4"
  }
 },
 "nbformat": 4,
 "nbformat_minor": 5
}
