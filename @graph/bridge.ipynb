{
 "cells": [
  {
   "cell_type": "raw",
   "id": "2fb63359",
   "metadata": {},
   "source": [
    "đồ thị không trọng số (V,E)\n",
    "giả sử đồ thị liên thông\n",
    "tìm một cảnh mà khi loại khỏi G thì nó mất tính liên thông\n",
    ">> Thuật toán trực tiếp: loại bỏ từng cạnh một, tính số thành phần liên thông thu được\n",
    "sau mỗi lần\n",
    "\n"
   ]
  },
  {
   "cell_type": "code",
   "execution_count": 9,
   "id": "f8c97675",
   "metadata": {},
   "outputs": [
    {
     "name": "stdout",
     "output_type": "stream",
     "text": [
      "([], {'A': 0, 'B': 1, 'C': 2, 'D': 3, 'E': 5, 'F': 4, 'G': 8, 'H': 6, 'I': 9, 'J': 10, 'K': 7}, {'A': 0, 'B': 0, 'C': 0, 'D': 3, 'E': 5, 'F': 3, 'G': 3, 'H': 5, 'I': 3, 'J': 10, 'K': 5})\n"
     ]
    }
   ],
   "source": [
    "def find_bridges(graph):\n",
    "    def dfs(u, parent):\n",
    "        nonlocal time\n",
    "        visited[u] = True\n",
    "        num[u] = low[u] = time\n",
    "        time += 1\n",
    "        stk.append(u)\n",
    "        for v in graph[u]:\n",
    "            if not visited[v]:  # If v is not visited\n",
    "                dfs(v, u)\n",
    "                \n",
    "                # Check if the subtree rooted at v has a connection back to one of ancestors of u\n",
    "                low[u] = min(low[u], low[v])\n",
    "                \n",
    "            elif v != parent:  # Update low value of u for parent function calls\n",
    "                low[u] = min(low[u], num[v])\n",
    "        if low[u]==num[u]:\n",
    "            \n",
    "    # Initialize variables\n",
    "    num = {node: -1 for node in graph}\n",
    "    low = {node: -1 for node in graph}\n",
    "    visited = {node: False for node in graph}\n",
    "    bridges = []\n",
    "    time = 0\n",
    "    stk = []\n",
    "\n",
    "    # Run DFS from each component (in case the graph is disconnected)\n",
    "    for u in graph:\n",
    "        if not visited[u]:\n",
    "            dfs(u, None)\n",
    "            \n",
    "    \n",
    "    return bridges,num,low\n",
    "# Example graph with alphabet nodes\n",
    "graph = {\n",
    "    'A': ['B'],\n",
    "    'B': ['C'],\n",
    "    'C': ['A', 'D'],\n",
    "    'D': ['F'],\n",
    "    'E': ['H'],\n",
    "    'F': ['E','G','I'],\n",
    "    'G': ['I','J'],\n",
    "    'H':['K'],\n",
    "    'I':['D'],\n",
    "    'J':[],\n",
    "    'K':['E']\n",
    "}\n",
    "\n",
    "# Find bridges in the alphabet graph\n",
    "print(find_bridges(graph))"
   ]
  },
  {
   "cell_type": "code",
   "execution_count": null,
   "id": "820b5099",
   "metadata": {},
   "outputs": [],
   "source": [
    "\n",
    "\n"
   ]
  }
 ],
 "metadata": {
  "kernelspec": {
   "display_name": "Python 3 (ipykernel)",
   "language": "python",
   "name": "python3"
  },
  "language_info": {
   "codemirror_mode": {
    "name": "ipython",
    "version": 3
   },
   "file_extension": ".py",
   "mimetype": "text/x-python",
   "name": "python",
   "nbconvert_exporter": "python",
   "pygments_lexer": "ipython3",
   "version": "3.11.4"
  }
 },
 "nbformat": 4,
 "nbformat_minor": 5
}
