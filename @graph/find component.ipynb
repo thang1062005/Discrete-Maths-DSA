{
 "cells": [
  {
   "cell_type": "code",
   "execution_count": 12,
   "id": "f4d63c2c",
   "metadata": {},
   "outputs": [
    {
     "name": "stdout",
     "output_type": "stream",
     "text": [
      "{1, 4, 7}\n",
      "{2}\n",
      "{3, 5, 6}\n"
     ]
    }
   ],
   "source": [
    "# Truyền vào 2 tham số là cụm liên thông hiện tại và nút hiện tại đang xét\n",
    "\n",
    "def find_comp(cur_node,cur_comp = None):\n",
    "    # khi chưa có phần tử nào được thăm \n",
    "    if cur_comp is None:\n",
    "        cur_comp = set()\n",
    "    cur_comp.add(cur_node)\n",
    "    visited[cur_node] = True\n",
    "    for neigh in graph[cur_node]:\n",
    "        if neigh not in cur_comp:\n",
    "            find_comp(neigh,cur_comp)\n",
    "    return cur_comp        \n",
    "graph = {1:[4,7],2:[],3:[5,6],4:[1,7],5:[3,6],6:[3,5],7:[1,4]}   \n",
    "visited = {i:False for i in graph}\n",
    "res = []\n",
    "for i in graph:\n",
    "    if not visited[i]:\n",
    "        print(find_comp(i))\n",
    "        \n",
    "    "
   ]
  },
  {
   "cell_type": "code",
   "execution_count": null,
   "id": "a6138c72",
   "metadata": {},
   "outputs": [],
   "source": []
  }
 ],
 "metadata": {
  "kernelspec": {
   "display_name": "Python 3 (ipykernel)",
   "language": "python",
   "name": "python3"
  },
  "language_info": {
   "codemirror_mode": {
    "name": "ipython",
    "version": 3
   },
   "file_extension": ".py",
   "mimetype": "text/x-python",
   "name": "python",
   "nbconvert_exporter": "python",
   "pygments_lexer": "ipython3",
   "version": "3.11.4"
  }
 },
 "nbformat": 4,
 "nbformat_minor": 5
}
