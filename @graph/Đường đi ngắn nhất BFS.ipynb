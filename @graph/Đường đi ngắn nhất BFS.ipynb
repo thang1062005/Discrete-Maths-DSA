{
 "cells": [
  {
   "cell_type": "code",
   "execution_count": 4,
   "id": "3a75f923",
   "metadata": {},
   "outputs": [
    {
     "name": "stdout",
     "output_type": "stream",
     "text": [
      "A\n",
      "B\n",
      "C\n",
      "D\n",
      "G\n"
     ]
    },
    {
     "ename": "KeyError",
     "evalue": "'H'",
     "output_type": "error",
     "traceback": [
      "\u001b[1;31m---------------------------------------------------------------------------\u001b[0m",
      "\u001b[1;31mKeyError\u001b[0m                                  Traceback (most recent call last)",
      "Cell \u001b[1;32mIn[4], line 24\u001b[0m\n\u001b[0;32m     13\u001b[0m                     queue\u001b[38;5;241m.\u001b[39mappend(neigh)\n\u001b[0;32m     14\u001b[0m graph \u001b[38;5;241m=\u001b[39m {\n\u001b[0;32m     15\u001b[0m     \u001b[38;5;124m'\u001b[39m\u001b[38;5;124mA\u001b[39m\u001b[38;5;124m'\u001b[39m: [\u001b[38;5;124m'\u001b[39m\u001b[38;5;124mB\u001b[39m\u001b[38;5;124m'\u001b[39m, \u001b[38;5;124m'\u001b[39m\u001b[38;5;124mC\u001b[39m\u001b[38;5;124m'\u001b[39m,\u001b[38;5;124m'\u001b[39m\u001b[38;5;124mD\u001b[39m\u001b[38;5;124m'\u001b[39m,\u001b[38;5;124m'\u001b[39m\u001b[38;5;124mG\u001b[39m\u001b[38;5;124m'\u001b[39m],\n\u001b[0;32m     16\u001b[0m     \u001b[38;5;124m'\u001b[39m\u001b[38;5;124mB\u001b[39m\u001b[38;5;124m'\u001b[39m: [\u001b[38;5;124m'\u001b[39m\u001b[38;5;124mF\u001b[39m\u001b[38;5;124m'\u001b[39m],\n\u001b[1;32m   (...)\u001b[0m\n\u001b[0;32m     21\u001b[0m     \u001b[38;5;124m'\u001b[39m\u001b[38;5;124mG\u001b[39m\u001b[38;5;124m'\u001b[39m: [\u001b[38;5;124m'\u001b[39m\u001b[38;5;124mH\u001b[39m\u001b[38;5;124m'\u001b[39m]\n\u001b[0;32m     22\u001b[0m }\n\u001b[1;32m---> 24\u001b[0m short_path(graph,\u001b[38;5;124m'\u001b[39m\u001b[38;5;124mA\u001b[39m\u001b[38;5;124m'\u001b[39m,\u001b[38;5;124m'\u001b[39m\u001b[38;5;124mH\u001b[39m\u001b[38;5;124m'\u001b[39m)\n",
      "Cell \u001b[1;32mIn[4], line 12\u001b[0m, in \u001b[0;36mshort_path\u001b[1;34m(graph, start, end)\u001b[0m\n\u001b[0;32m     10\u001b[0m visited[vertex]\u001b[38;5;241m=\u001b[39m \u001b[38;5;28;01mTrue\u001b[39;00m\n\u001b[0;32m     11\u001b[0m \u001b[38;5;28;01mfor\u001b[39;00m neigh \u001b[38;5;129;01min\u001b[39;00m graph[vertex]:\n\u001b[1;32m---> 12\u001b[0m     \u001b[38;5;28;01mif\u001b[39;00m \u001b[38;5;129;01mnot\u001b[39;00m visited[neigh]:\n\u001b[0;32m     13\u001b[0m         queue\u001b[38;5;241m.\u001b[39mappend(neigh)\n",
      "\u001b[1;31mKeyError\u001b[0m: 'H'"
     ]
    }
   ],
   "source": [
    "def short_path(graph,start,end):\n",
    "    visited = {i: False for i in list(graph.keys())}\n",
    "    path = []\n",
    "    queue = []\n",
    "    queue.append(start)\n",
    "    while queue:\n",
    "        \n",
    "        vertex = queue.pop(0)\n",
    "        if not visited[vertex]:\n",
    "            print(vertex)\n",
    "            visited[vertex]= True\n",
    "            for neigh in graph[vertex]:\n",
    "                if not visited[neigh]:\n",
    "                    queue.append(neigh)\n",
    "                    path.append(neigh)\n",
    "graph = {\n",
    "    'A': ['B', 'C','D','G'],\n",
    "    'B': ['F'],\n",
    "    'C': ['F'],\n",
    "    'D': ['E'],\n",
    "    'E': ['F'],\n",
    "    'F': ['H'],\n",
    "    'G': ['H']\n",
    "}\n",
    "\n",
    "short_path(graph,'A','H')"
   ]
  },
  {
   "cell_type": "code",
   "execution_count": null,
   "id": "dd8ffb67",
   "metadata": {},
   "outputs": [],
   "source": []
  }
 ],
 "metadata": {
  "kernelspec": {
   "display_name": "Python 3 (ipykernel)",
   "language": "python",
   "name": "python3"
  },
  "language_info": {
   "codemirror_mode": {
    "name": "ipython",
    "version": 3
   },
   "file_extension": ".py",
   "mimetype": "text/x-python",
   "name": "python",
   "nbconvert_exporter": "python",
   "pygments_lexer": "ipython3",
   "version": "3.11.4"
  }
 },
 "nbformat": 4,
 "nbformat_minor": 5
}
