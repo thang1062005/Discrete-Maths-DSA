{
 "cells": [
  {
   "cell_type": "code",
   "execution_count": 30,
   "id": "7801de7d",
   "metadata": {},
   "outputs": [
    {
     "name": "stdout",
     "output_type": "stream",
     "text": [
      "([['K', 'H', 'E'], ['J'], ['I', 'G', 'F', 'D'], ['C', 'B', 'A']], {'A': 1, 'B': 2, 'C': 3, 'D': 4, 'E': 6, 'F': 5, 'G': 9, 'H': 7, 'I': 10, 'J': 11, 'K': 8}, {'A': 1, 'B': 1, 'C': 1, 'D': 4, 'E': 6, 'F': 4, 'G': 4, 'H': 6, 'I': 4, 'J': 11, 'K': 6})\n"
     ]
    }
   ],
   "source": [
    "def scc(graph):\n",
    "    def dfs(u):\n",
    "        nonlocal time\n",
    "        visited[u] = True\n",
    "        time += 1\n",
    "        num[u] = low[u] = time\n",
    "        icomp.append(u)\n",
    "\n",
    "        for v in graph[u]:\n",
    "            if not visited[v]:\n",
    "                dfs(v)\n",
    "                low[u] = min(low[u], low[v])\n",
    "            elif v in icomp:  # Only consider nodes in the current component\n",
    "                low[u] = min(low[u], num[v])\n",
    "\n",
    "        # After visiting all adjacent nodes, check if it's a root of an SCC\n",
    "        if low[u] == num[u]:\n",
    "            mr = []\n",
    "            while True:\n",
    "                cur = icomp.pop()\n",
    "                mr.append(cur)\n",
    "                visited[cur] = False\n",
    "                if cur == u:\n",
    "                    break\n",
    "            res.append(mr)\n",
    "\n",
    "    # Initialize variables\n",
    "    num = {node: -1 for node in graph}\n",
    "    low = {node: -1 for node in graph}\n",
    "    visited = {node: False for node in graph}\n",
    "    res = []\n",
    "    icomp = []\n",
    "    time = 0\n",
    "\n",
    "    # Run DFS from each component (in case the graph is disconnected)\n",
    "    dfs(list(graph.keys())[0])\n",
    "    \n",
    "    return res, num, low\n",
    "\n",
    "# Example graph with alphabet nodes\n",
    "graph = {\n",
    "    'A': ['B'],\n",
    "    'B': ['C'],\n",
    "    'C': ['A', 'D'],\n",
    "    'D': ['F'],\n",
    "    'E': ['H'],\n",
    "    'F': ['E', 'G', 'I'],\n",
    "    'G': ['I', 'J'],\n",
    "    'H': ['K'],\n",
    "    'I': ['D'],\n",
    "    'J': [],\n",
    "    'K': ['E']\n",
    "}\n",
    "\n",
    "# Find strongly connected components in the alphabet graph\n",
    "print(scc(graph))\n"
   ]
  },
  {
   "cell_type": "code",
   "execution_count": null,
   "id": "da467373",
   "metadata": {},
   "outputs": [],
   "source": []
  }
 ],
 "metadata": {
  "kernelspec": {
   "display_name": "Python 3 (ipykernel)",
   "language": "python",
   "name": "python3"
  },
  "language_info": {
   "codemirror_mode": {
    "name": "ipython",
    "version": 3
   },
   "file_extension": ".py",
   "mimetype": "text/x-python",
   "name": "python",
   "nbconvert_exporter": "python",
   "pygments_lexer": "ipython3",
   "version": "3.11.4"
  }
 },
 "nbformat": 4,
 "nbformat_minor": 5
}
